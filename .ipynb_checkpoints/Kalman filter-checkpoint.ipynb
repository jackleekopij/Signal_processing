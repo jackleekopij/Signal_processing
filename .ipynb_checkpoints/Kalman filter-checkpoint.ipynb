{
 "cells": [
  {
   "cell_type": "markdown",
   "id": "5e87706b-012b-49f4-932e-f04b4820942b",
   "metadata": {},
   "source": [
    "## Kalman filters\n",
    "Kalman filters are a way of quantifying uncertainty surrounding the internal state of a system from a noisey signal. Algorithm works in two phases:\n",
    "1. *Prediction phase*: estimate the current state variables and related uncertainties. \n",
    "2. *Update estimate*: take weighted average of state observation and estimate. Larger weight is given to estimates with greater certainty. "
   ]
  }
 ],
 "metadata": {
  "kernelspec": {
   "display_name": "venv_h2",
   "language": "python",
   "name": "venv_h2"
  },
  "language_info": {
   "codemirror_mode": {
    "name": "ipython",
    "version": 3
   },
   "file_extension": ".py",
   "mimetype": "text/x-python",
   "name": "python",
   "nbconvert_exporter": "python",
   "pygments_lexer": "ipython3",
   "version": "3.8.5"
  }
 },
 "nbformat": 4,
 "nbformat_minor": 5
}
