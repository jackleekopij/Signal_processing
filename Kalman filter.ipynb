{
 "cells": [
  {
   "cell_type": "markdown",
   "id": "5e87706b-012b-49f4-932e-f04b4820942b",
   "metadata": {},
   "source": [
    "## Kalman filters\n",
    "Kalman filters are a way of quantifying uncertainty surrounding the internal state of a system from a noisey signal. Algorithm works in two phases:\n",
    "1. *Prediction phase*: estimate the current state variables and related uncertainties. \n",
    "2. *Update estimate*: take weighted average of state observation and estimate. Larger weight is given to estimates with greater certainty. \n",
    "\n",
    "Note: to form the weighted sum in uncertainty, the Kalman filter assumes noise to be present in both the *prediction* and *measurement*.\n",
    "\n",
    "The Kalman filter propagates uncertainty recursively and has significant parallels to Bayesian updating.\n",
    "\n",
    "### Kalman filters"
   ]
  }
 ],
 "metadata": {
  "kernelspec": {
   "display_name": "Python 3 (ipykernel)",
   "language": "python",
   "name": "python3"
  },
  "language_info": {
   "codemirror_mode": {
    "name": "ipython",
    "version": 3
   },
   "file_extension": ".py",
   "mimetype": "text/x-python",
   "name": "python",
   "nbconvert_exporter": "python",
   "pygments_lexer": "ipython3",
   "version": "3.9.7"
  }
 },
 "nbformat": 4,
 "nbformat_minor": 5
}
