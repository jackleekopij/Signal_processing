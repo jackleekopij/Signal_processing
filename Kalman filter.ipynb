{
 "cells": [
  {
   "cell_type": "markdown",
   "id": "064092bd",
   "metadata": {},
   "source": [
    "## Kalman filters\n",
    "Kalman filters are a way of quantifying uncertainty surrounding the internal state of a dynamical system from a noisey signal. Algorithm works in two phases:\n",
    "1. *Prediction phase*: estimate the current state variables and related uncertainties. \n",
    "2. *Update estimate*: take weighted average of state observation and estimate. Larger weight is given to estimates with greater certainty. \n",
    "\n",
    "A **state extrapolation** function is produced which is of the form of classic control:\n",
    "$$ \\hat{x}_{n+1,n} = F\\hat{x}_{n,n}  + G u_{n} + w_{n} $$ \n",
    "\n",
    "In the above, matrices F and G are to be estimated from the **state space**, differential equations. \n",
    "$$ \\dot{x(t)} = Ax(t) + Bu(t) $$\n",
    "$$ \\dot{y(t)} = Cx(t) + Du(t) $$ \n",
    "\n",
    "Distinguishing the differerence between **state extrapolation** and **state space**, the former has output of the same units whereas **state space** are differential equations.\n",
    "\n",
    "\n",
    "Steps involved in derving the *state dynamics matrix*:\n",
    "1. Set up *governing equation*, u which is the sum of derivate\n",
    "2. Isolate the highest order derivative, $\\frac{d^{n}x}{dt^n} = \\frac{d^{n-1}x}{dt^n-1} + \\frac{dx}{dt} + u$\n",
    "3. Set system of equations where $x_{x+1} = \\frac{d^n}{dt^{n}$\n",
    "4. Set highest $x_{n+1}$ term to $\\frac{d^{n-1}x}{dt^n-1} + \\frac{dx}{dt} + u$\n",
    "5. Express this in matrix form $ \\dot{x(t)} = Ax(t) + Bu(t) $\n",
    "\n",
    "\n",
    "Note: to form the weighted sum in uncertainty, the Kalman filter assumes noise to be present in both the *prediction* and *measurement*. The Kalman filter propagates uncertainty recursively and has significant parallels to Bayesian updating.\n",
    "\n",
    "Higher order dynamical systems can be restructured into 'first order differential equations' by defining new variables and substituting higher order terms. \n",
    "\n",
    "\n",
    "What is the state dynamics matrix? A\n",
    "What is the state transition matrix? F"
   ]
  },
  {
   "cell_type": "markdown",
   "id": "5e87706b-012b-49f4-932e-f04b4820942b",
   "metadata": {},
   "source": [
    "### Kalman filters\n",
    "\n",
    "#### Kalman gain\n",
    "The Kalman gain, K, is used to determine how much of the new measurements to use to update the new estimate. The Kalman Gain is bound between zero and one; \\[0,1\\]. In essence the Kalman gain is an proportion of error in the estimate compared to measurement. The Kalman Gain is then used to calculate the new estimate which is given by\n",
    "$$ Est_t = Est_{t-1} + K[Meas - Est_{t-1}] $$ \n",
    "\n",
    "When K is close to zero the estimate is stable and measurements are inaccurate, whereas when K is close to 1 difference between measurement and prediction will have large effects on the update. \n",
    "\n",
    "#### State matrix\n",
    "Keeps track of underlyng system dynamics such as position and velocity.\n",
    "\n",
    "#### Observation matrix\n",
    "Extracts key variables from process?\n",
    "\n",
    "#### State covariance and measurement covariance matrices\n",
    "\n",
    "\n",
    "#### Examples of Kalman filters"
   ]
  },
  {
   "cell_type": "markdown",
   "id": "9b46421f",
   "metadata": {},
   "source": [
    "### Codified Kalman filter\n",
    "Below is an example of a Kalman filter codified. Note the State Extrapoloation matrix is assumed as pre-calculated. Therefore the differential equations involved in the System State Representation equations have already been solved and formed into required matrices. "
   ]
  },
  {
   "cell_type": "code",
   "execution_count": 8,
   "id": "b222a0f5-cee0-4e38-92d7-2224eaaef7a4",
   "metadata": {},
   "outputs": [],
   "source": [
    "import numpy as np\n",
    "from numpy.linalg import inv\n",
    "import matplotlib.pyplot as plt"
   ]
  },
  {
   "cell_type": "code",
   "execution_count": 7,
   "id": "732d63fc-1d01-489a-bd57-4bb8495e9d6f",
   "metadata": {},
   "outputs": [
    {
     "name": "stdout",
     "output_type": "stream",
     "text": [
      "Kalman Filter State Matrix:\n",
      " [[5127.05898493]\n",
      " [ 288.55147059]]\n"
     ]
    }
   ],
   "source": [
    "x_observations = np.array([4000, 4260, 4550, 4860, 5110])\n",
    "v_observations = np.array([280, 282, 285, 286, 290])\n",
    "\n",
    "x_history = []\n",
    "v_history = [] \n",
    "\n",
    "\n",
    "z = np.c_[x_observations, v_observations]\n",
    "\n",
    "# Initial Conditions\n",
    "a = 2  # Acceleration\n",
    "v = 280\n",
    "t = 1  # Difference in time\n",
    "\n",
    "# Process / Estimation Errors\n",
    "error_est_x = 20\n",
    "error_est_v = 5\n",
    "\n",
    "# Observation Errors\n",
    "error_obs_x = 25  # Uncertainty in the measurement\n",
    "error_obs_v = 6\n",
    "\n",
    "def prediction2d(x, v, t, a):\n",
    "    A = np.array([[1, t],\n",
    "                  [0, 1]])\n",
    "    X = np.array([[x],\n",
    "                  [v]])\n",
    "    B = np.array([[0.5 * t ** 2],\n",
    "                  [t]])\n",
    "    X_prime = A.dot(X) + B.dot(a)\n",
    "    return X_prime\n",
    "\n",
    "\n",
    "def covariance2d(sigma1, sigma2):\n",
    "    cov1_2 = sigma1 * sigma2\n",
    "    cov2_1 = sigma2 * sigma1\n",
    "    cov_matrix = np.array([[sigma1 ** 2, cov1_2],\n",
    "                           [cov2_1, sigma2 ** 2]])\n",
    "    return np.diag(np.diag(cov_matrix))\n",
    "\n",
    "\n",
    "# Initial Estimation Covariance Matrix\n",
    "P = covariance2d(error_est_x, error_est_v)\n",
    "A = np.array([[1, t],\n",
    "              [0, 1]])\n",
    "\n",
    "# Initial State Matrix\n",
    "X = np.array([[z[0][0]],\n",
    "              [v]])\n",
    "n = len(z[0])\n",
    "\n",
    "for data in z[1:]:\n",
    "    X = prediction2d(X[0][0], X[1][0], t, a)\n",
    "    # To simplify the problem, professor\n",
    "    # set off-diagonal terms to 0.\n",
    "    P = np.diag(np.diag(A.dot(P).dot(A.T)))\n",
    "\n",
    "    # Calculating the Kalman Gain\n",
    "    H = np.identity(n)\n",
    "    R = covariance2d(error_obs_x, error_obs_v)\n",
    "    S = H.dot(P).dot(H.T) + R\n",
    "    K = P.dot(H).dot(inv(S))\n",
    "\n",
    "    # Reshape the new data into the measurement space.\n",
    "    Y = H.dot(data).reshape(n, -1)\n",
    "\n",
    "    # Update the State Matrix\n",
    "    # Combination of the predicted state, measured values, covariance matrix and Kalman Gain\n",
    "    X = X + K.dot(Y - H.dot(X))\n",
    "    \n",
    "    x_history.append(X[0][0])\n",
    "    v_history.append(X[1][0])\n",
    "    \n",
    "    # Update Process Covariance Matrix\n",
    "    P = (np.identity(len(K)) - K.dot(H)).dot(P)\n",
    "\n",
    "print(\"Kalman Filter State Matrix:\\n\", X)"
   ]
  },
  {
   "cell_type": "code",
   "execution_count": 9,
   "id": "42e5c5f7-4460-4d40-95e5-6a24a0fb3c79",
   "metadata": {},
   "outputs": [
    {
     "data": {
      "text/plain": [
       "[<matplotlib.lines.Line2D at 0x7efc60382a90>]"
      ]
     },
     "execution_count": 9,
     "metadata": {},
     "output_type": "execute_result"
    },
    {
     "data": {
      "image/png": "[encoded data removed]",
      "text/plain": [
       "<Figure size 432x288 with 1 Axes>"
      ]
     },
     "metadata": {
      "needs_background": "light"
     },
     "output_type": "display_data"
    }
   ],
   "source": [
    "plt.plot(\n",
    "plt.plot(x_observations, color = 'red')\n"
   ]
  },
  {
   "cell_type": "code",
   "execution_count": 6,
   "id": "0b4f1b4c-4352-47b9-ae76-ffc082f4331c",
   "metadata": {},
   "outputs": [
    {
     "data": {
      "text/plain": [
       "array([[4000,  280],\n",
       "       [4260,  282],\n",
       "       [4550,  285],\n",
       "       [4860,  286],\n",
       "       [5110,  290]])"
      ]
     },
     "execution_count": 6,
     "metadata": {},
     "output_type": "execute_result"
    }
   ],
   "source": [
    "z"
   ]
  }
 ],
 "metadata": {
  "kernelspec": {
   "display_name": "venv_h2",
   "language": "python",
   "name": "venv_h2"
  },
  "language_info": {
   "codemirror_mode": {
    "name": "ipython",
    "version": 3
   },
   "file_extension": ".py",
   "mimetype": "text/x-python",
   "name": "python",
   "nbconvert_exporter": "python",
   "pygments_lexer": "ipython3",
   "version": "3.8.5"
  }
 },
 "nbformat": 4,
 "nbformat_minor": 5
}
