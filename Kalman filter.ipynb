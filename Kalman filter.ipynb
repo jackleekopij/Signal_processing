{
 "cells": [
  {
   "cell_type": "markdown",
   "id": "5e87706b-012b-49f4-932e-f04b4820942b",
   "metadata": {},
   "source": [
    "## Kalman filters\n",
    "Kalman filters are a way of quantifying uncertainty surrounding the internal state of a dynamical system from a noisey signal. Algorithm works in two phases:\n",
    "1. *Prediction phase*: estimate the current state variables and related uncertainties. \n",
    "2. *Update estimate*: take weighted average of state observation and estimate. Larger weight is given to estimates with greater certainty. \n",
    "\n",
    "A **state extrapolation** function is produced which is of the form of classic control:\n",
    "$$ \\hat{x}_{n+1,n} = F\\hat{x}_{n,n}  + G u_{n} + w_{n} $$ \n",
    "\n",
    "In the above, matrices F and G are to be estimated from the **state space**, differential equations. \n",
    "$$ \\dot{x(t)} = Ax(t) + Bu(t) $$\n",
    "$$ \\dot{y(t)} = Cx(t) + Du(t) $$ \n",
    "\n",
    "Note: to form the weighted sum in uncertainty, the Kalman filter assumes noise to be present in both the *prediction* and *measurement*. The Kalman filter propagates uncertainty recursively and has significant parallels to Bayesian updating.\n",
    "\n",
    "Higher order dynamical systems can be restructured into 'first order differential equations' by defining new variables and substituting higher order terms. \n",
    "\n",
    "\n",
    "What is the state dynamics matrix? A\n",
    "What is the state transition matrix? F\n",
    "### Kalman filters\n",
    "\n",
    "#### Kalman gain\n",
    "The Kalman Gain ultimately drives the speed in which the estimated value is zeroed in on the true value.\n",
    "\n",
    "#### State matrix\n",
    "Keeps track of underlyng system dynamics such as position and velocity.\n",
    "\n",
    "#### Observation matrix\n",
    "Extracts key variables from process?\n",
    "\n",
    "#### State covariance and measurement covariance matrices"
   ]
  },
  {
   "cell_type": "code",
   "execution_count": null,
   "id": "338b4750",
   "metadata": {},
   "outputs": [],
   "source": []
  }
 ],
 "metadata": {
  "kernelspec": {
   "display_name": "Python 3 (ipykernel)",
   "language": "python",
   "name": "python3"
  },
  "language_info": {
   "codemirror_mode": {
    "name": "ipython",
    "version": 3
   },
   "file_extension": ".py",
   "mimetype": "text/x-python",
   "name": "python",
   "nbconvert_exporter": "python",
   "pygments_lexer": "ipython3",
   "version": "3.9.7"
  }
 },
 "nbformat": 4,
 "nbformat_minor": 5
}
