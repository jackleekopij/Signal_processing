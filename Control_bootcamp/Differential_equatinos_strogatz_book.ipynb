{
 "cells": [
  {
   "cell_type": "code",
   "execution_count": null,
   "metadata": {},
   "outputs": [],
   "source": []
  },
  {
   "cell_type": "markdown",
   "metadata": {},
   "source": [
    "### A review of Nonlinear Dynamics and Chaos\n",
    "Book can be found [here](https://www.fulviofrisone.com/attachments/article/464/Strogatz,%20S.H.%20-%20Nonlinear%20dynamics%20and%20chaos.pdf)\n",
    "\n",
    "\n",
    "### Dichotomies of differential equations:\n",
    "*Differential equations* vs *iterated maps*\n",
    "Two types of dynamical systems; *differential equations* and *iterated maps*; continuous and discrete time systems, respectively. \n",
    "\n",
    "*Ordinary* vs *partial* differential equations. \n",
    "*Ordinary* have differential equations which are functions of *only one single independent variables* whereas *partial* differential equations have contain differential equations with *two or more independent variables*. **This book only focuses on time varying systems so will focus only on** *ordinary differential equations*. \n",
    "\n",
    "\n",
    "The solution to a differential equation will be a (or set of) function(s) of time. The way a system evolves through time is called the phase space.\n",
    "\n",
    "### Autonomous vs nonautonomous differential equations\n",
    "Autonomous differential equations are equations which do not have time as an indepdent variable whereas nonautonomous equations explicitly have time as a depedent value."
   ]
  }
 ],
 "metadata": {
  "language_info": {
   "name": "python"
  },
  "orig_nbformat": 4
 },
 "nbformat": 4,
 "nbformat_minor": 2
}
