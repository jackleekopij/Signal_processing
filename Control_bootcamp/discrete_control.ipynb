{
 "cells": [
  {
   "cell_type": "markdown",
   "id": "58bdb5ae-aa90-41e0-a942-a7100d9fc4d8",
   "metadata": {},
   "source": [
    "## Discrete control\n",
    "Notes on discrete control; base of notes is taken from [Brian Douglas YouTube series on discrete control](https://www.youtube.com/watch?v=14cMhrp5wlk&list=PLUMWjy5jgHK0MLv6Ksf-NHi7Ur8NRNU4Z). Content to be evolved with other resources. \n"
   ]
  },
  {
   "cell_type": "markdown",
   "id": "fbd92477-9443-44e9-a40e-2cbe3a879573",
   "metadata": {},
   "source": [
    "## Discrete control #2: Discretize! Going from continuous to discrete domain (video 2)\n",
    "https://www.youtube.com/watch?v=rL_1oWrOplk&list=PLUMWjy5jgHK0MLv6Ksf-NHi7Ur8NRNU4Z&index=2 <br>\n",
    "Video covers: \n",
    "- Points of discretization of systems\n",
    "- Overview of s-domain vs z-domain representation\n",
    "- Different types of methods/approaches to discretization of a signal \n",
    "- Explores the Zero Order Hold method (and why it has precedence over impulse method)\n",
    "- Example of applying Zero Order Hold method to a system\n",
    "\n",
    "\n",
    "We have a continuous plant which we wish to design a controller for; however, controller must be discreteized. This is the focus the lecture, going from continuous to discrete system. There's two options given a coninuous plant: \n",
    "1. Design a continuous controller then discretise the controller.\n",
    "2. Discretize the plant, then design a controller (which is then inherently discrete). \n",
    "\n",
    "Example of conversion of continuous to discrete controller. Start with a continuous controller $G(s) = \\frac{1}{s+1}$ in the *s-domain*. Conversion to the time domain yields $L^{-1}(G(s)) = g(t) = e^{-t}$, an *exponentially decaying* impulse response in the time domain. \n",
    "\n",
    "One way to discretize the above is to sample the response every T seconds $g[k] = e^{-kt}$ then take the *z-transform* $Zg([k]) = G(z) = \\frac{z}{z-e^T}$\n",
    "\n",
    "\n",
    "Note: there are numerous methods to go from continuous to discrete (all will have the same poles thus stability but DIFFERENT ZEROS): \n",
    "1. ZOH\n",
    "2. First order hold\n",
    "3. Bi-Linear transformation\n",
    "4. Impulse\n",
    "5. Matched\n",
    "\n",
    "Each discertisation have there benefits and should be used accordingly. However, when plant response is much longer than control response each of the methods converge.\n",
    "\n",
    "#### Zero Order Hold\n",
    "When controlling a motor, a controller doesn't send a pulse to the motor and then drop the input to zero in the next time step allowing motor to decrease in speed. Instead a constant input is provided to the motor; this is simply a step function input.\n",
    "\n"
   ]
  },
  {
   "cell_type": "markdown",
   "id": "960800ce-16a0-4b7e-a2ba-4014d13f2bac",
   "metadata": {},
   "source": [
    "## Discrete control #3: Designing for the zero-order hold (video 3)\n",
    "https://www.youtube.com/watch?v=yetLPW9sQaI&list=PLUMWjy5jgHK0MLv6Ksf-NHi7Ur8NRNU4Z&index=4<br>\n",
    "- Hold; a way to turn a discrete signal to continuous\n",
    "- Motor example of digtial control where digital computer (where controller runs) provides input voltages to motor driver (see image below)\n",
    "- Hold logic is just part of system as it's capture in DAC. \n",
    "- Matlab's Simulink has implied ZOH between discrete controllers and continuous plants.\n",
    "- Explored Tustin method to convert continuous controller to discrete (wihtout taking into account Simulink's implied ZOH for hybrid systems). \n",
    "- Shows an approximate method of \n",
    "- Easy to discretise plant then can use ZOH and design discrete controller\n",
    "- Hard; to design continuous controller then discretise the controller.\n",
    "\n",
    "\n",
    "A hold is digital to analog conversion. \n",
    "For discretisation, the Zero Order Hold can be used to both discretise both a continuous plant and controller. However, the applying the ZOH to continuous controller is not ideal as a ZOH holder component may already be present in the plant. In the below diagram the hold logic is already built in the DAC (digtial to analog converter) to hold signal. In place of digital computer \n",
    "\n",
    "![](digital_controller.PNG)"
   ]
  },
  {
   "cell_type": "markdown",
   "id": "3e757f13-c8b6-44f3-a160-6942044a9bbf",
   "metadata": {},
   "source": [
    "### Discrete control #4: Discretize with the matched method (video 4) \n",
    "https://www.youtube.com/watch?v=TPNiLqsdwNI&list=PLUMWjy5jgHK0MLv6Ksf-NHi7Ur8NRNU4Z&index=4 <br> \n",
    "Continue to look at methods to discretise a system; note there are numerous methods to discretise a system each carrying different assumptions relating to what happens to the signal between the discerete points. \n",
    "\n",
    "This lecture focuses on 'matched method'. \n",
    "\n",
    "Remember with discretisation, we're looking for a method to map from the continuous to discrete doamain such that impulse and frequency response characteristics are preserved. Previously explored the following:\n",
    "\n",
    "| Method | Characteristic |\n",
    "| --- | --- |\n",
    "| Impulse response | Impulse | \n",
    "| ZOH | Step response |\n",
    "| FOH | Ramp response |\n",
    "\n",
    "The 'matched response' doesn't try and preserve time respons it simply tries to move the poles and zeros from the s-domain from z-domain; where the transform function from s $\\rightarrow$ z = $e^{sT}$ however this is the first step. \n",
    "\n",
    "3 additional steps;\n",
    "2. Add steps at infinity; if there are more poles than zeros then there's additional zeros at infinity. \n",
    "3. Make the transfer function strictly proper, creating a causal transfer function. A causal system has equal or fewer zeros than poles. Thus remove any poles to make the system proper.\n",
    "4. Fix the gain\n",
    "DC gain of system if found by calculating transfer function with s = 0, for a discrete system this found by setting z = 1 multiplying by a variable k and equating it to transfer function DC gain.  \n",
    "\n",
    "\n",
    "**What is the DC gain?** "
   ]
  },
  {
   "cell_type": "markdown",
   "id": "9f2ad641",
   "metadata": {},
   "source": [
    "### The (famous) Bilinear Transform (video 5) \n",
    "https://www.youtube.com/watch?v=88tWmyBaKIQ&list=PLUMWjy5jgHK0MLv6Ksf-NHi7Ur8NRNU4Z&index=5 <br> \n",
    "\n",
    "Another method for mapping from continuous to discrete; i.e. analog to discrete. The bilinear method is also referred to as the *Tustin method*.\n",
    "\n",
    "The equation for the bilinear transform is given by (derived below): \n",
    "$$ S= \\frac{2}{T}\\frac{z-1}{z+1}$$ \n",
    "\n",
    "The equations and derivation \\#1:\n",
    "$z = e^{sT}$ where T = sample period. However, directly plugging in $e^{sT}$ for into a function G(s) can result in a non-linear function. First, the equation needs to be linearised **by a taylor series expansion** and just use the first order approximation.\n",
    "$$ z = e^{sT} = \\sum^\\infty_{k=0}{(sT)^k}{k!} = 1 + sT + \\frac{(sT)^2}{2} + \\frac{(sT)^3}{6} + \\dots $$\n",
    "then the first order approximation is given by\n",
    "$$ z = e^{sT} = \\sum^\\infty_{k=0}{(sT)^k}{k!} \\approx 1 + sT$$\n",
    "\n",
    "For further accuracy of the first order approximation, apply the Taylor series expansion to $e^{\\frac{sT}{2}}e^{\\frac{sT}{2}} = \\frac{e^{\\frac{sT}{2}}}{e^{\\frac{-sT}{2}}}$. This can be rearranged to\n",
    "$$z = \\frac{1 + \\frac{sT}{2} + \\frac{(sT)^2}{4} + \\dots}{1 - \\frac{sT}{2} + \\frac{(sT)^2}{4} + \\dots}$$\n",
    "\n",
    "which can be 'linearised' by:\n",
    "$$z = \\frac{1 + \\frac{sT}{2} }{1 - \\frac{sT}{2} }$$\n",
    "$$\n",
    "\\begin{align}\n",
    "z(1 - \\frac{sT}{2}) &= = 1 + \\frac{sT}{2} \\\\\n",
    "z - 1 &= z\\frac{sT}{2} + \\frac{sT}{2} \\\\\n",
    "s =\n",
    "\\end{align}\n",
    "$$\n",
    "\n",
    "which can be simplified to: \n",
    "\n",
    "\n",
    "It can be shown by **difference equations** that the bilinear transform is an approximation to differential equations using trapozoidal integration. \n"
   ]
  }
 ],
 "metadata": {
  "kernelspec": {
   "display_name": "Python 3 (ipykernel)",
   "language": "python",
   "name": "python3"
  },
  "language_info": {
   "codemirror_mode": {
    "name": "ipython",
    "version": 3
   },
   "file_extension": ".py",
   "mimetype": "text/x-python",
   "name": "python",
   "nbconvert_exporter": "python",
   "pygments_lexer": "ipython3",
   "version": "3.9.7"
  }
 },
 "nbformat": 4,
 "nbformat_minor": 5
}
