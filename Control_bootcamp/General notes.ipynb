{
 "cells": [
  {
   "cell_type": "markdown",
   "id": "735d62d0-e356-47f1-995a-b27101af76ed",
   "metadata": {},
   "source": [
    "# General notes on control\n",
    "\n",
    "Resources from: <br>\n",
    "[Steve Brunton Control Bootcamp - YouTube]() <br>\n",
    "[Brian Douglas - YouTube](https://www.youtube.com/watch?v=uqjKG32AkC4)\n",
    "[APMonitor](https://apmonitor.com/pdc/index.php/Main/ModelSimulation)"
   ]
  },
  {
   "cell_type": "markdown",
   "id": "0cb95a66-5489-4f46-a0ad-ceadb77bb88d",
   "metadata": {},
   "source": [
    "**Stability** - the tendancy of system's response returns to zero after being disturbed. i.e. the ball in the bottom of a valley is stable, a ball on top of a hill is not. \n",
    "\n",
    "A subsequent question, what is the magnitude of stability which is important especially when external pertubation/shocks in the system or uncertainties. However, over having large magnitude for stability then impacts the system as any control then becomes difficult to respond. "
   ]
  },
  {
   "cell_type": "markdown",
   "id": "be1cbbc4",
   "metadata": {},
   "source": [
    "## Three views of a system\n",
    "\n",
    "Any linear time invariant system can represented in three different forms:\n",
    "1. State space representation\n",
    "2. Differential equation (ODE)\n",
    "3. Transfer function (s-domain)\n",
    "\n",
    "A [fantastic resource](https://apmonitor.com/pdc/index.php/Main/ModelSimulation) for illustrating these three representations. Example, given *ordinary differntial equation* representation of system, $\\tau_p \\frac{dy}{dt} + y = k_pu$ find the *state space* and the *transfer function* representation. \n",
    "\n",
    "### 1. State space representation \n",
    "A state space representation of a dynamical system can be constructed by converting a set of differential equations (generally of order 2 or more) into a system of first order differential equations. Conversion is done by a coordinate transform of the system. The *state space representation* will take the form: \n",
    "\n",
    "$$ \n",
    "\\dot{x} = Ax + Bu\\\\\n",
    "Y = Cx + Du\n",
    "$$\n",
    "\n",
    "By converting to the *state space representation* analysis of stability of a system becomes trivial through analysis of the eigenvalues/eigenvectors of A.\n",
    "\n",
    "### 2. Differential equation\n",
    "The differential equation representation of a linear time invariant system is traditional form where rates of change of the state of system/system output are equal to a function of the system's state,, y, plus an input component, u. \n",
    "\n",
    "\n",
    "### 3. Transfer function\n",
    "The transfer function representation sets the system as in the frequency (s-)domain. Mapping into the s-domain is through application Laplace transforms. One advantages of the transfer function representation (a by-product of the Laplace transform) is operations on ordinary differential equations become algebraic operations in the s-domain menaing system components can simply be multiplied together avoiding need for complex convolutions. \n",
    "\n"
   ]
  },
  {
   "cell_type": "markdown",
   "id": "3621330e",
   "metadata": {},
   "source": [
    "## The step function\n",
    "In controls analysis, (unit) step functions are used to analyse a system's response to a (unit) input. Such an input can be thought of as a Heavside function where:\n",
    "$$\n",
    "\\begin{cases}\n",
    "0 & x < 0\\\\\n",
    "1 & x > 1 \\\\\n",
    "\\end{cases}\n",
    "$$\n",
    "\n",
    "In Python, a *linear time invariant* object can be analysed by calling the *.step()* function. Inspecting the source of this function you'll find the code does the following: \n",
    "1. Defines initial values, X_0 and time array T, if not defined. \n",
    "2. Creates a vector of ones of length T; i.e. creates a vector unit (1) inputs. \n",
    "3. Simulates system with *lsim2* by passing (system, U, T, X_0)\n",
    "4. *lsim2*, after checks are made, passes the system to *odein* which solves the initial value problem and returns a vector of X(t), the system's value at time = t. "
   ]
  }
 ],
 "metadata": {
  "kernelspec": {
   "display_name": "Python 3 (ipykernel)",
   "language": "python",
   "name": "python3"
  },
  "language_info": {
   "codemirror_mode": {
    "name": "ipython",
    "version": 3
   },
   "file_extension": ".py",
   "mimetype": "text/x-python",
   "name": "python",
   "nbconvert_exporter": "python",
   "pygments_lexer": "ipython3",
   "version": "3.9.7"
  }
 },
 "nbformat": 4,
 "nbformat_minor": 5
}
