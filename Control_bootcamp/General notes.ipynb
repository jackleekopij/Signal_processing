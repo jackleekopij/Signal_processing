{
 "cells": [
  {
   "cell_type": "markdown",
   "id": "735d62d0-e356-47f1-995a-b27101af76ed",
   "metadata": {},
   "source": [
    "# General notes on control\n",
    "\n",
    "Resources from: \n",
    "[Steve Brunton Control Bootcamp - YouTube]()\n",
    "[Brian Douglas - YouTube](https://www.youtube.com/watch?v=uqjKG32AkC4)"
   ]
  },
  {
   "cell_type": "markdown",
   "id": "0cb95a66-5489-4f46-a0ad-ceadb77bb88d",
   "metadata": {},
   "source": [
    "**Stability** - the tendancy of system's response returns to zero after being disturbed. i.e. the ball in the bottom of a valley is stable, a ball on top of a hill is not. \n",
    "\n",
    "A subsequent question, what is the magnitude of stability which is important especially when external pertubation/shocks in the system or uncertainties. However, over having large magnitude for stability then impacts the system as any control then becomes difficult to respond. "
   ]
  }
 ],
 "metadata": {
  "kernelspec": {
   "display_name": "venv_h2",
   "language": "python",
   "name": "venv_h2"
  },
  "language_info": {
   "codemirror_mode": {
    "name": "ipython",
    "version": 3
   },
   "file_extension": ".py",
   "mimetype": "text/x-python",
   "name": "python",
   "nbconvert_exporter": "python",
   "pygments_lexer": "ipython3",
   "version": "3.8.10"
  }
 },
 "nbformat": 4,
 "nbformat_minor": 5
}
