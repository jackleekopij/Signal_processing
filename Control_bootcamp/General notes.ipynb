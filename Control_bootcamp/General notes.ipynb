{
 "cells": [
  {
   "cell_type": "markdown",
   "id": "735d62d0-e356-47f1-995a-b27101af76ed",
   "metadata": {},
   "source": [
    "# General notes on control\n",
    "\n",
    "Resources from: <br>\n",
    "[Steve Brunton Control Bootcamp - YouTube]() <br>\n",
    "[Brian Douglas - YouTube](https://www.youtube.com/watch?v=uqjKG32AkC4)\n",
    "[APMonitor](https://apmonitor.com/pdc/index.php/Main/ModelSimulation)"
   ]
  },
  {
   "cell_type": "markdown",
   "id": "0cb95a66-5489-4f46-a0ad-ceadb77bb88d",
   "metadata": {},
   "source": [
    "**Stability** - the tendancy of system's response returns to zero after being disturbed. i.e. the ball in the bottom of a valley is stable, a ball on top of a hill is not. \n",
    "\n",
    "A subsequent question, what is the magnitude of stability which is important especially when external pertubation/shocks in the system or uncertainties. However, over having large magnitude for stability then impacts the system as any control then becomes difficult to respond. \n",
    "\n",
    "**Frequency response** is the steady-state response of a system to a sinsusoidal input. In *frequency response* methods, the input signal's frequency is varied over a certain reange and study the resulting response. Further, when a system's *transfer functions* is not known *frequency response* method can be used with experimental data to approximate transfer function."
   ]
  },
  {
   "cell_type": "markdown",
   "id": "be1cbbc4",
   "metadata": {},
   "source": [
    "## Linear time invariant system\n",
    "A linear time invariant system is aptly named as it has two main properties; linearity and time invariance.\n",
    "- Linear; the system will behave appropriately under additive, scaling and derivative operations. \n",
    "- Time invariance; whether an input is applied to the system now or T seconds from now, the output will be identical except for a time delay of T seconds, i.e. $\\displaystyle x(t)}x(t)$ is {\\displaystyle y(t)}y(t), then the output due to input {\\displaystyle x(t-T)}x(t-T) is {\\displaystyle y(t-T)}y(t-T). \n",
    "\n",
    "## Three views of a system\n",
    "\n",
    "Any linear time invariant system can represented in three different forms:\n",
    "1. State space representation\n",
    "2. Differential equation (ODE)\n",
    "3. Transfer function (s-domain)\n",
    "\n",
    "Note: any LTI system can be described as a result of its inpulse response, the Dirac delta function at time = 0. Linear-time invariant systems are important as they allow a system to be fully characterised by the function $h(t)$ such $y(t) = h(t)*x(t)$ where \\* is the convolution.\n",
    "\n",
    "\n",
    "A [fantastic resource](https://apmonitor.com/pdc/index.php/Main/ModelSimulation) for illustrating these three representations. Example, given *ordinary differntial equation* representation of system, $\\tau_p \\frac{dy}{dt} + y = k_pu$ find the *state space* and the *transfer function* representation. \n",
    "\n",
    "### 1. State space representation \n",
    "A state space representation of a dynamical system can be constructed by converting a set of differential equations (generally of order 2 or more) into a system of first order differential equations. Conversion is done by a coordinate transform of the system. The *state space representation* will take the form: \n",
    "\n",
    "$$ \n",
    "\\dot{x} = Ax + Bu\\\\\n",
    "Y = Cx + Du\n",
    "$$\n",
    "\n",
    "By converting to the *state space representation* analysis of stability of a system becomes trivial through analysis of the eigenvalues/eigenvectors of A.\n",
    "\n",
    "### 2. Differential equation\n",
    "The differential equation representation of a linear time invariant system is traditional form where rates of change of the state of system/system output are equal to a function of the system's state,, y, plus an input component, u. \n",
    "\n",
    "\n",
    "### 3. Transfer function\n",
    "Transfer function - *the Laplace transform of the impulse response of an LTI system* and provide a methodology to analyse a system in its constituent components. The transfer function representation sets the system as in the frequency (s-)domain. Mapping into the s-domain is through application Laplace transforms. One advantages of the transfer function representation (a by-product of the Laplace transform) is operations on ordinary differential equations become algebraic operations in the s-domain menaing system components can simply be multiplied together avoiding need for complex convolutions. \n",
    "\n",
    "Avoiding convolutions is done by starting with the inpulse response of LTI system, the Dirac delta which is just an input at time = 0. This is then generalised to an artibitrary input which can be thought of as an infinite number of inpulses; thus the arbitrary input = sum(all inpulse response curves); this sum is also called the convolution integral. Given input u(t) and system (inpulse response) g(t) then output $y(t) = \\int^\\infty_0u(\\tau)g(t-\\tau)d\\tau$. However, taking the Laplace transform of U(t), G(t) and Y(t) turns the integral $Y(s) = U(s)G(s)$ where $G(s)$ is the transfer function and reduces the convolution into a simple multiplication."
   ]
  },
  {
   "cell_type": "markdown",
   "id": "3621330e",
   "metadata": {},
   "source": [
    "## The step function\n",
    "In controls analysis, (unit) step functions are used to analyse a system's response to a (unit) input. Such an input can be thought of as a Heavside function where:\n",
    "$$\n",
    "\\begin{cases}\n",
    "0 & x < 0\\\\\n",
    "1 & x > 1 \\\\\n",
    "\\end{cases}\n",
    "$$\n",
    "\n",
    "In Python, a *linear time invariant* object can be analysed by calling the *.step()* function. Inspecting the source of this function you'll find the code does the following: \n",
    "1. Defines initial values, X_0 and time array T, if not defined. \n",
    "2. Creates a vector of ones of length T; i.e. creates a vector unit (1) inputs. \n",
    "3. Simulates system with *lsim2* by passing (system, U, T, X_0)\n",
    "4. *lsim2*, after checks are made, passes the system to *odein* which solves the initial value problem and returns a vector of X(t), the system's value at time = t. "
   ]
  },
  {
   "cell_type": "markdown",
   "id": "36af43d6",
   "metadata": {},
   "source": [
    "### Pole-zero representation\n",
    "Poles are the roots of the denominator of a transfer function. Zeros are the roots of the nominator of a transfer function.\n",
    "\n",
    "*Determination:*\n",
    "Poles are determined by equating D(s) with 0 and solving for s. Zeros are determined by equating N(s) with 0 and solving for s.\n",
    "\n",
    "*Amount:*\n",
    "The number of poles is always greater or equal to the Zeros.\n",
    "\n",
    "*Effects of additional Poles and Zeros in First Order system*\n",
    "Additional Poles delay the response of a system.\n",
    "Left half-plane zeros speed up the response of a system and the right half-plane cause the response to go in the opposite direction."
   ]
  },
  {
   "cell_type": "markdown",
   "id": "900ea116",
   "metadata": {},
   "source": [
    "### Bode plots\n",
    "Mostly used to analyse the stability of a controls system - a simple way of describing frequency response of a linear time invariant system. Bode plots are used to analyse steady state systems i.e. once transient factors have died out in other words input $u(t) = sin(\\omega t)$. After passing input through system, G(s), the output $y(t)= M sin(\\omega t + \\phi)$, a sin wave with the same frequency just shift by $\\phi$ and scaled by magnitude M. \n",
    "\n",
    "Bode plots show *frequency response* of system with *steady state sinusodial* inputs; returns two plots of frequency repsonse; one for magnitude vs frequency and one for phase frequency. Frequency response of a transfer function, H(s), is defined where $\\sigma = 0 $ thus $s = \\sigma + j\\omega = j \\omega$.  Note: when analysing a system the **magnitude of a complex number is**:  $|C| = C  \\bar{C}$ such that $|s| = (j\\omega) (-)j\\omega = \\sqrt{\\omega^2}$. \n",
    "\n",
    "*Magnitude* is calculated as $|G(j\\omega)|$ and *phase shift* as $\\angle G(s)= -tan^{-1}(\\frac{real}{imaginery})$\n",
    "\n",
    "Note: in the $\\sigma = 0 $ thus $s = \\sigma + j\\omega = j \\omega$. The reason for $\\sigma = 0$ is that we are looking at the response of the system to periodic (and thus non-decaying) sinusoidal signals, whereby Laplace conveniently reduces to Fourier along the imaginary axis. The real axis in the Laplace domain represents exponential decay/growth factors that pure signals do not have, and which Fourier does not model. \n",
    "\n",
    "### Alternative analysis to system's differential equations\n",
    "Root-locus and Bode plots (frequency response) provide two methods to predict and analyse a system's performance without resorting to differential eqautions. \n",
    "\n",
    "#### Root-locus plots\n",
    "\n",
    "#### Bode plots\n",
    "Mostly used to analyse the stability of a controls system - a simple way of describing **frequency response** of a linear time invariant system. **Frequency response** is the steady-state response of a system to a sinsusoidal input.\n",
    "Bode plots show frequency response of system with *steady state sinusodial* inputs; returns two plots of frequency repsonse, one for magnitude vs frequency and one for phase frequency.\n",
    "\n",
    "Note for magnitude *decibels* are used which is transformation of magnitude using equation $20 log_{10}(\\frac{A}{A_0})$\n",
    "\n",
    "#### Gain and phase margins\n",
    "Gain and phase margins are important as they give an indication of how far a system is away from stability. These points relate to the Nyquist point of (-1,0) where by a system is unstable. Note: (-1,0) translates to a point of 0Db and 180 degrees on Bode plot (\n",
    "\n",
    "*Gain margin* - the frequency at which the phase shift is 180 degrees\n",
    "\n",
    "*Phase margin* - the frequency at which the magnitude is 0Db"
   ]
  },
  {
   "cell_type": "code",
   "execution_count": 4,
   "id": "7ad0f947",
   "metadata": {},
   "outputs": [
    {
     "data": {
      "image/png": "[encoded data removed]",
      "text/plain": [
       "<Figure size 432x288 with 1 Axes>"
      ]
     },
     "metadata": {
      "needs_background": "light"
     },
     "output_type": "display_data"
    },
    {
     "data": {
      "image/png": "[encoded data removed]",
      "text/plain": [
       "<Figure size 432x288 with 1 Axes>"
      ]
     },
     "metadata": {
      "needs_background": "light"
     },
     "output_type": "display_data"
    }
   ],
   "source": [
    "from scipy import signal\n",
    "import matplotlib.pyplot as plt\n",
    "\n",
    "# create a linear time invariant system \\frac{1}{s+1}\n",
    "sys = signal.TransferFunction([1], [1, 0])\n",
    "w, mag, phase = signal.bode(sys)\n",
    "\n",
    "plt.figure()\n",
    "plt.semilogx(w, mag)    # Bode magnitude plot\n",
    "plt.figure()\n",
    "plt.semilogx(w, phase)  # Bode phase plot\n",
    "plt.show()"
   ]
  },
  {
   "cell_type": "markdown",
   "id": "33c6420a",
   "metadata": {},
   "source": [
    "## Convolution\n",
    "(3Blue1Brown)\n",
    "Convolution is the mixing of sequences of numbers.\n",
    "- Dice example; \n",
    "\n",
    "- Image processing:\n",
    "    - Can lead to a blur by convolving - takes average of the neighbours if weighting is uniform. \n",
    "    - Gaussian processes use the Gaussian distribution to derive the weightings of the convolution. \n",
    "    - Kernels can created to detect things such as lines i.e. as follows \n",
    "    $$\n",
    "    \\begin{bmatrix}\n",
    "        0.25 & 0 & -0.25 \\\\\n",
    "        0.5  & 0 & -0.5  \\\\\n",
    "        0.25 & 0 & -0.25 \\\\\n",
    "    \\end{bmatrix}\n",
    "    $$\n",
    "    - The weights are called kernels\n",
    "    - CNN's essentially learn kernels from data.\n"
   ]
  },
  {
   "cell_type": "code",
   "execution_count": 3,
   "id": "809acd29",
   "metadata": {},
   "outputs": [
    {
     "data": {
      "image/png": "[encoded data removed]",
      "text/plain": [
       "<Figure size 432x288 with 1 Axes>"
      ]
     },
     "metadata": {
      "needs_background": "light"
     },
     "output_type": "display_data"
    },
    {
     "data": {
      "image/png": "[encoded data removed]",
      "text/plain": [
       "<Figure size 432x288 with 1 Axes>"
      ]
     },
     "metadata": {
      "needs_background": "light"
     },
     "output_type": "display_data"
    }
   ],
   "source": [
    "# create a linear time invariant system \\frac{s}{1}\n",
    "sys = signal.TransferFunction([1,0], [1])\n",
    "w, mag, phase = signal.bode(sys)\n",
    "\n",
    "plt.figure()\n",
    "plt.semilogx(w, mag)    # Bode magnitude plot\n",
    "plt.figure()\n",
    "plt.semilogx(w, phase)  # Bode phase plot\n",
    "plt.show()"
   ]
  }
 ],
 "metadata": {
  "kernelspec": {
   "display_name": "Python 3 (ipykernel)",
   "language": "python",
   "name": "python3"
  },
  "language_info": {
   "codemirror_mode": {
    "name": "ipython",
    "version": 3
   },
   "file_extension": ".py",
   "mimetype": "text/x-python",
   "name": "python",
   "nbconvert_exporter": "python",
   "pygments_lexer": "ipython3",
   "version": "3.9.7"
  }
 },
 "nbformat": 4,
 "nbformat_minor": 5
}
