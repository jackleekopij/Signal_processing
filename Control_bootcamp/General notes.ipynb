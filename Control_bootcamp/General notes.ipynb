{
 "cells": [
  {
   "cell_type": "markdown",
   "id": "735d62d0-e356-47f1-995a-b27101af76ed",
   "metadata": {},
   "source": [
    "# General notes on control\n",
    "\n",
    "Resources from: <br>\n",
    "[Steve Brunton Control Bootcamp - YouTube]() <br>\n",
    "[Brian Douglas - YouTube](https://www.youtube.com/watch?v=uqjKG32AkC4)"
   ]
  },
  {
   "cell_type": "markdown",
   "id": "0cb95a66-5489-4f46-a0ad-ceadb77bb88d",
   "metadata": {},
   "source": [
    "**Stability** - the tendancy of system's response returns to zero after being disturbed. i.e. the ball in the bottom of a valley is stable, a ball on top of a hill is not. \n",
    "\n",
    "A subsequent question, what is the magnitude of stability which is important especially when external pertubation/shocks in the system or uncertainties. However, over having large magnitude for stability then impacts the system as any control then becomes difficult to respond. "
   ]
  },
  {
   "cell_type": "markdown",
   "id": "be1cbbc4",
   "metadata": {},
   "source": [
    "## Three views of a system\n",
    "\n",
    "### 1. State space representation \n",
    "A state space representation of a dynamical system can be constructed by converting a set of differential equations (generally of order 2 or more) into a system of first order differential equations. Conversion is done by a coordinate transform of the system. The *state space representation* will take the form: \n",
    "\n",
    "$$ \n",
    "\\dot{x} = Ax + Bu\n",
    "$$\n",
    "\n",
    "By converting to the *state space representation* analysis of stability of a system becomes trivial through analysis of the eigenvalues/eigenvectors of A.\n",
    "\n",
    "### 2. Differential equation\n",
    "\n",
    "\n",
    "### 3. Transfer function"
   ]
  }
 ],
 "metadata": {
  "kernelspec": {
   "display_name": "Python 3 (ipykernel)",
   "language": "python",
   "name": "python3"
  },
  "language_info": {
   "codemirror_mode": {
    "name": "ipython",
    "version": 3
   },
   "file_extension": ".py",
   "mimetype": "text/x-python",
   "name": "python",
   "nbconvert_exporter": "python",
   "pygments_lexer": "ipython3",
   "version": "3.9.7"
  }
 },
 "nbformat": 4,
 "nbformat_minor": 5
}
