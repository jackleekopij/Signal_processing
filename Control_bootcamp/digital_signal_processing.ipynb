{
 "cells": [
  {
   "cell_type": "markdown",
   "id": "6dd867cc-ab1a-4857-ac6d-0b645a175680",
   "metadata": {},
   "source": [
    "## Z-transforms\n",
    "Once controller has been designed by transfer function, G(s), inputs to may not necessarily be applied in continuous time. Z-transform allows controls to be applied in real time.\n",
    "\n",
    "Tales of note; T = sampling frequency (measured in seconds). \n",
    "\n",
    "\n",
    "## Goal:\n",
    "Given plant and controller system $\\frac{dc(t)}{dt} + 2 c(t) = r(t)$ and r(t)= 1(t) \\[step function\\], t \\[ramp\\] and $\\frac{1}{2}t^2 \\[parabolic\\] simulate the system via difference equations. \n",
    "\n",
    "### Example 1. r(t)= 1(t) step function\n",
    "\n",
    "1. Find transfer function (s-domain) of plant and inputs by taking Laplace transforms then solving for $\\frac{C(s)}{R(s)}$ which yields the following transfer functions: <br>\n",
    "Combined (Input + Plant): $\\frac{1}{(s+2)}$ <br>\n",
    "2. Find z-transform of $\\frac{1}{s(s+2)}$ <br> \n",
    "Assuming a sample frequency, T=0.1 and using Zero-Order Hold method for transformation yields the following Z-transform. \n",
    "$$G(z) = \\frac{0.09063 z^{-1} }{1 - 0.8187 z{^-1}}$$\n",
    "\n",
    "3. Formulate into difference equations:\n",
    "Setting $G(z)= \\frac{Y(z)}{X(z)}$ and substituting yields: \n",
    "\n",
    "$$\n",
    "\\begin{align}\n",
    "    G(z) = \\frac{Y(z)}{X(z)} =& \\frac{0.09063 z^{-1} }{1 - 0.8187 z{^-1}} \\\\\n",
    "    Y(z)(1 - 0.8187 z{^-1}) =& 0.09063 X(z)z^{-1} \\\\\n",
    "    & \\text{ (using } Y(z) z{^-1} = y(k-1) \\text{ shift property of Z-transform yields difference equation:} \\\\\n",
    "    y(k) = & 0.09063 x(k-1) + 0.8187 y(k-1) \\\\\n",
    "\\end{align}\n",
    "$$\n",
    "    \n"
   ]
  },
  {
   "cell_type": "code",
   "execution_count": 8,
   "id": "2c913768-7563-465f-8b79-0189e514ce6e",
   "metadata": {
    "collapsed": true,
    "jupyter": {
     "outputs_hidden": true,
     "source_hidden": true
    },
    "tags": []
   },
   "outputs": [
    {
     "data": {
      "text/plain": [
       "[<matplotlib.lines.Line2D at 0x7fdffc1d4cd0>]"
      ]
     },
     "execution_count": 8,
     "metadata": {},
     "output_type": "execute_result"
    },
    {
     "data": {
      "image/png": "[encoded data removed]",
      "text/plain": [
       "<Figure size 432x288 with 1 Axes>"
      ]
     },
     "metadata": {
      "needs_background": "light"
     },
     "output_type": "display_data"
    }
   ],
   "source": [
    "# continuous version for checking\n",
    "import math\n",
    "import matplotlib.pyplot as plt\n",
    "\n",
    "# create range of on x domain \n",
    "T = 0.01\n",
    "num_samples = 100\n",
    "x = [i*T for i in range(num_samples)]\n",
    "\n",
    "# 1. step function no\n",
    "y = []\n",
    "#for x_ in range(1,num_samples):\n",
    "for t in x:\n",
    "    # x_n = 1/(1 - math.exp(-2 * T) * y[x_ - 1])\n",
    "    x_n = -1/4 * 1 + t/2 + 1/4* math.exp(-2*t)\n",
    "    y.append(x_n)\n",
    "    \n",
    "plt.plot(x,y)"
   ]
  },
  {
   "cell_type": "code",
   "execution_count": 7,
   "id": "ec3743ad-db0d-4624-96f7-e0cdb6d75c5e",
   "metadata": {},
   "outputs": [
    {
     "data": {
      "text/plain": [
       "[<matplotlib.lines.Line2D at 0x7f99c1e4bdc0>]"
      ]
     },
     "execution_count": 7,
     "metadata": {},
     "output_type": "execute_result"
    },
    {
     "data": {
      "image/png": "[encoded data removed]",
      "text/plain": [
       "<Figure size 432x288 with 1 Axes>"
      ]
     },
     "metadata": {
      "needs_background": "light"
     },
     "output_type": "display_data"
    }
   ],
   "source": [
    "# discrete version\n",
    "import math\n",
    "import matplotlib.pyplot as plt\n",
    "\n",
    "# create range of on x domain \n",
    "T = 0.1\n",
    "num_samples = 100\n",
    "n_t = [i*T for i in range(num_samples)]\n",
    "\n",
    "# for a constant step response r(t) = 1(t)\n",
    "r = 1\n",
    "c = [0,0]\n",
    "\n",
    "\n",
    "for index, n in enumerate(n_t):\n",
    "    # c_t =  0.8187 c_{t-1} + 0.09063 r_{t-1} \n",
    "    c_t = 0.8187 * c[index - 1] + 0.09063  * 1 \n",
    "    c.append(c_t)\n",
    "    \n",
    "plt.plot(c)"
   ]
  }
 ],
 "metadata": {
  "kernelspec": {
   "display_name": "venv_h2",
   "language": "python",
   "name": "venv_h2"
  },
  "language_info": {
   "codemirror_mode": {
    "name": "ipython",
    "version": 3
   },
   "file_extension": ".py",
   "mimetype": "text/x-python",
   "name": "python",
   "nbconvert_exporter": "python",
   "pygments_lexer": "ipython3",
   "version": "3.8.5"
  }
 },
 "nbformat": 4,
 "nbformat_minor": 5
}
