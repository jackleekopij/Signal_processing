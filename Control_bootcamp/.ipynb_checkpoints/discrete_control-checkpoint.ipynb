{
 "cells": [
  {
   "cell_type": "markdown",
   "id": "58bdb5ae-aa90-41e0-a942-a7100d9fc4d8",
   "metadata": {},
   "source": [
    "## Discrete control\n",
    "Notes on discrete control; base of notes is taken from [Brian Douglas YouTube series on discrete control](https://www.youtube.com/watch?v=14cMhrp5wlk&list=PLUMWjy5jgHK0MLv6Ksf-NHi7Ur8NRNU4Z). Content to be evolved with other resources. \n"
   ]
  },
  {
   "cell_type": "markdown",
   "id": "fbd92477-9443-44e9-a40e-2cbe3a879573",
   "metadata": {},
   "source": [
    "## Discrete control #2: Discretize! Going from continuous to discrete domain (video 2)\n",
    "https://www.youtube.com/watch?v=rL_1oWrOplk&list=PLUMWjy5jgHK0MLv6Ksf-NHi7Ur8NRNU4Z&index=2 <br>\n",
    "Video covers: \n",
    "- Points of discretization of systems\n",
    "- Overview of s-domain vs z-domain representation\n",
    "- Different types of methods/approaches to discretization of a signal \n",
    "- Explores the Zero Order Hold method (and why it has precedence over impulse method)\n",
    "- Example of applying Zero Order Hold method to a system\n",
    "\n",
    "\n",
    "We have a continuous plant which we wish to design a controller for; however, controller must be discreteized. This is the focus the lecture, going from continuous to discrete system. There's two options given a coninuous plant: \n",
    "1. Design a continuous controller then discretise the controller.\n",
    "2. Discretize the plant, then design a controller (which is then inherently discrete). \n",
    "\n",
    "Example of conversion of continuous to discrete controller. Start with a continuous controller $G(s) = \\frac{1}{s+1}$ in the *s-domain*. Conversion to the time domain yields $L^{-1}(G(s)) = g(t) = e^{-t}$, an *exponentially decaying* impulse response in the time domain. \n",
    "\n",
    "One way to discretize the above is to sample the response every T seconds $g[k] = e^{-kt}$ then take the *z-transform* $Zg([k]) = G(z) = \\frac{z}{z-e^T}$\n",
    "\n",
    "\n",
    "Note: there are numerous methods to go from continuous to discrete (all will have the same poles thus stability but DIFFERENT ZEROS): \n",
    "1. ZOH\n",
    "2. First order hold\n",
    "3. Bi-Linear transformation\n",
    "4. Impulse\n",
    "5. Matched\n",
    "\n",
    "Each discertisation have there benefits and should be used accordingly. However, when plant response is much longer than control response each of the methods converge.\n",
    "\n",
    "#### Zero Order Hold\n",
    "When controlling a motor, a controller doesn't send a pulse to the motor and then drop the input to zero in the next time step allowing motor to decrease in speed. Instead a constant input is provided to the motor; this is simply a step function input."
   ]
  }
 ],
 "metadata": {
  "kernelspec": {
   "display_name": "venv_h2",
   "language": "python",
   "name": "venv_h2"
  },
  "language_info": {
   "codemirror_mode": {
    "name": "ipython",
    "version": 3
   },
   "file_extension": ".py",
   "mimetype": "text/x-python",
   "name": "python",
   "nbconvert_exporter": "python",
   "pygments_lexer": "ipython3",
   "version": "3.8.10"
  }
 },
 "nbformat": 4,
 "nbformat_minor": 5
}
