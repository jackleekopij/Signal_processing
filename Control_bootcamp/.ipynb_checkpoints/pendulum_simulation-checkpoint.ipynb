{
 "cells": [
  {
   "cell_type": "markdown",
   "id": "ebd87288-d6a6-430b-8a14-64dc7d571857",
   "metadata": {},
   "source": [
    "### Pendulum simulation - wihtout damping\n",
    "The motion of a pendulum is governed by the equation: \n",
    "$$ \\dot{\\theta} = -\\frac{g}{l}sin(\\theta)$$\n",
    "\n",
    "To explore the motion of a pendulum from differential equation form, the *state space model* must first be derived. To derive *state space model*, start by setting the following variables:\n",
    "$$x_1 = \\theta$$\n",
    "$$x_2 = \\dot{\\theta}$$\n",
    "\n",
    "then the *state space mdoel* will take the following form: \n",
    "$$\\frac{d}{dt} (\\begin{bmatrix} x_1 \\\\ x_2 \\end{bmatrix}) = \\begin{bmatrix} x_2 \\\\ -\\frac{g}{l}sin(x_1) \\end{bmatrix} $$\n",
    "\n",
    "With parameters, g: gravity = 9.8  and l: length of pendulum = 1, the followin code block is yielded. "
   ]
  },
  {
   "cell_type": "code",
   "execution_count": null,
   "id": "7be33e85-148b-447d-9af6-7441c418d67b",
   "metadata": {},
   "outputs": [],
   "source": [
    "from scipy import signal\n",
    "\n",
    "g = 9.8\n",
    "l = 1 \n",
    "\n",
    "# define state space model\n",
    "import numpy as np\n",
    "import matplotlib.pylab as plt\n",
    "\n",
    "def ode45_step(f, x, t, dt, *args):\n",
    "    \"\"\"\n",
    "    One step of 4th Order Runge-Kutta method\n",
    "    \"\"\"\n",
    "    k = dt\n",
    "    k1 = k * f(t, x, *args)\n",
    "    k2 = k * f(t + 0.5*k, x + 0.5*k1, *args)\n",
    "    k3 = k * f(t + 0.5*k, x + 0.5*k2, *args)\n",
    "    k4 = k * f(t + dt, x + k3, *args)\n",
    "    return x + 1/6. * (k1 + 2*k2 + 2*k3 + k4)\n",
    "\n",
    "def ode45(f, t, x0, *args):\n",
    "    \"\"\"\n",
    "    4th Order Runge-Kutta method\n",
    "    \"\"\"\n",
    "    n = len(t)\n",
    "    x = np.zeros((n, len(x0)))\n",
    "    x[0] = x0\n",
    "    for i in range(n-1):\n",
    "        dt = t[i+1] - t[i] \n",
    "        x[i+1] = ode45_step(f, x[i], t[i], dt, *args)\n",
    "    return x\n",
    "\n",
    "def f(t, y, b, c):\n",
    "    \"\"\"\n",
    "    Pendulum example function.\n",
    "    \"\"\"\n",
    "    theta = y[0]\n",
    "    omega = y[1]\n",
    "    dydt = [omega, -b*omega - c*np.sin(theta)]\n",
    "    return np.array(dydt)\n",
    "\n",
    "\n",
    "b = 0.25\n",
    "c = 5.0    \n",
    "\n",
    "N = 101\n",
    "\n",
    "x0 = np.array([np.pi - 0.1, 0.0])\n",
    "t = np.linspace(0, 10, N)\n",
    "\n",
    "x = ode45(f, t, x0, b, c)\n",
    "\n",
    "plt.plot(x)\n",
    "plt.show()"
   ]
  }
 ],
 "metadata": {
  "kernelspec": {
   "display_name": "venv_h2",
   "language": "python",
   "name": "venv_h2"
  },
  "language_info": {
   "codemirror_mode": {
    "name": "ipython",
    "version": 3
   },
   "file_extension": ".py",
   "mimetype": "text/x-python",
   "name": "python",
   "nbconvert_exporter": "python",
   "pygments_lexer": "ipython3",
   "version": "3.8.5"
  }
 },
 "nbformat": 4,
 "nbformat_minor": 5
}
