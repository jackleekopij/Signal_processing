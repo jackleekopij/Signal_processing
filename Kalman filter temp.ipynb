{
 "cells": [
  {
   "cell_type": "markdown",
   "id": "064092bd",
   "metadata": {},
   "source": [
    "## Kalman filters\n",
    "Kalman filters are a way of quantifying uncertainty surrounding the internal state of a dynamical system from a noisey signal. Algorithm works in two phases:\n",
    "1. *Prediction phase*: estimate the current state variables and related uncertainties. \n",
    "2. *Update estimate*: take weighted average of state observation and estimate. Larger weight is given to estimates with greater certainty. \n",
    "\n",
    "A **state extrapolation** function is produced which is of the form of classic control:\n",
    "$$ \\hat{x}_{n+1,n} = F\\hat{x}_{n,n}  + G u_{n} + w_{n} $$ \n",
    "\n",
    "In the above, matrices F and G are to be estimated from the **state space**, differential equations. \n",
    "$$ \\dot{x(t)} = Ax(t) + Bu(t) $$\n",
    "$$ \\dot{y(t)} = Cx(t) + Du(t) $$ \n",
    "\n",
    "Distinguishing the differerence between **state extrapolation** and **state space**, the former has output of the same units whereas **state space** are differential equations.\n",
    "\n",
    "\n",
    "Steps involved in derving the *state dynamics matrix*:\n",
    "1. Set up *governing equation*, u which is the sum of derivate\n",
    "2. Isolate the highest order derivative, $\\frac{d^{n}x}{dt^n} = \\frac{d^{n-1}x}{dt^n-1} + \\frac{dx}{dt} + u$\n",
    "3. Set system of equations where $x_{x+1} = \\frac{d^n}{dt^{n}}$\n",
    "4. Set highest $x_{n+1}$ term to $\\frac{d^{n-1}x}{dt^n-1} + \\frac{dx}{dt} + u$\n",
    "5. Express this in matrix form $ \\dot{x(t)} = Ax(t) + Bu(t) $\n",
    "\n",
    "\n",
    "Note: to form the weighted sum in uncertainty, the Kalman filter assumes noise to be present in both the *prediction* and *measurement*. The Kalman filter propagates uncertainty recursively and has significant parallels to Bayesian updating.\n",
    "\n",
    "Higher order dynamical systems can be restructured into 'first order differential equations' by defining new variables and substituting higher order terms. \n",
    "\n",
    "\n",
    "What is the state dynamics matrix? A\n",
    "What is the state transition matrix? F"
   ]
  },
  {
   "cell_type": "markdown",
   "id": "5e87706b-012b-49f4-932e-f04b4820942b",
   "metadata": {},
   "source": [
    "### Kalman filters\n",
    "\n",
    "#### Kalman gain\n",
    "The Kalman gain, K, is used to determine how much of the new measurements to use to update the new estimate. The Kalman Gain is bound between zero and one; \\[0,1\\]. In essence the Kalman gain is an proportion of error in the estimate compared to measurement. The Kalman Gain is then used to calculate the new estimate which is given by\n",
    "$$ Est_t = Est_{t-1} + K[Meas - Est_{t-1}] $$ \n",
    "\n",
    "When K is close to zero the estimate is stable and measurements are inaccurate, whereas when K is close to 1 difference between measurement and prediction will have large effects on the update. \n",
    "\n",
    "#### State matrix\n",
    "Keeps track of underlyng system dynamics such as position and velocity.\n",
    "\n",
    "#### Observation matrix\n",
    "Extracts key variables from process?\n",
    "\n",
    "#### State covariance and measurement covariance matrices\n",
    "\n",
    "### Questions: \n",
    "Why is the Kalman filter known as a Mean Square Error fit to measurements? \n",
    "How is covariance update derived from matrix form? Relies on quadratic form of matrix; why is this equal to the variance? (*Answers in [detailed derivations]*)\n",
    "\n",
    "Why is '(np.diag(np.ones(len(X))) - kalman_gain.dot(H)).dot(P).dot((np.diag(np.ones(len(X))) + kalman_gain.dot(H)).T) - kalman_gain.dot(R).dot(kalman_gain.T)' equal to $P = (I - KH)P^p$\n",
    "\n",
    "#### Examples of Kalman filters\n",
    "\n",
    "## Bibliography/references\n",
    "[Detailed intro](https://www.kalmanfilter.net/multiExamples.html) \n",
    "\n",
    "[Code inspiration](https://medium.com/@jaems33/understanding-kalman-filters-with-python-2310e87b8f48)\n",
    "\n",
    "[Detailed derivations](https://web.mit.edu/kirtley/kirtley/binlustuff/literature/control/Kalman%20filter.pdf)"
   ]
  },
  {
   "cell_type": "markdown",
   "id": "9b46421f",
   "metadata": {},
   "source": [
    "### Codified Kalman filter\n",
    "Below is an example of a Kalman filter codified. Note the State Extrapoloation matrix is assumed as pre-calculated. Therefore the differential equations involved in the System State Representation equations have already been solved and formed into required matrices. "
   ]
  },
  {
   "cell_type": "code",
   "execution_count": 1,
   "id": "3db8234e",
   "metadata": {},
   "outputs": [
    {
     "name": "stdout",
     "output_type": "stream",
     "text": [
      "Kalman Filter State Matrix:\n",
      " [[5127.05898493]\n",
      " [ 288.55147059]]\n"
     ]
    }
   ],
   "source": [
    "import numpy as np\n",
    "from numpy.linalg import inv\n",
    "\n",
    "x_observations = np.array([4000, 4260, 4550, 4860, 5110])\n",
    "v_observations = np.array([280, 282, 285, 286, 290])\n",
    "\n",
    "z = np.c_[x_observations, v_observations]\n",
    "\n",
    "# Initial Conditions\n",
    "a = 2  # Acceleration\n",
    "v = 280\n",
    "t = 1  # Difference in time\n",
    "\n",
    "# Process / Estimation Errors\n",
    "error_est_x = 20\n",
    "error_est_v = 5\n",
    "\n",
    "# Observation Errors\n",
    "error_obs_x = 25  # Uncertainty in the measurement\n",
    "error_obs_v = 6\n",
    "\n",
    "def prediction2d(x, v, t, a):\n",
    "    A = np.array([[1, t],\n",
    "                  [0, 1]])\n",
    "    X = np.array([[x],\n",
    "                  [v]])\n",
    "    B = np.array([[0.5 * t ** 2],\n",
    "                  [t]])\n",
    "    X_prime = A.dot(X) + B.dot(a)\n",
    "    return X_prime\n",
    "\n",
    "\n",
    "def covariance2d(sigma1, sigma2):\n",
    "    cov1_2 = sigma1 * sigma2\n",
    "    cov2_1 = sigma2 * sigma1\n",
    "    cov_matrix = np.array([[sigma1 ** 2, cov1_2],\n",
    "                           [cov2_1, sigma2 ** 2]])\n",
    "    return np.diag(np.diag(cov_matrix))\n",
    "\n",
    "\n",
    "# Initial Estimation Covariance Matrix\n",
    "P = covariance2d(error_est_x, error_est_v)\n",
    "A = np.array([[1, t],\n",
    "              [0, 1]])\n",
    "\n",
    "# Initial State Matrix\n",
    "X = np.array([[z[0][0]],\n",
    "              [v]])\n",
    "n = len(z[0])\n",
    "\n",
    "for data in z[1:]:\n",
    "    X = prediction2d(X[0][0], X[1][0], t, a)\n",
    "    # To simplify the problem, professor\n",
    "    # set off-diagonal terms to 0.\n",
    "    P = np.diag(np.diag(A.dot(P).dot(A.T)))\n",
    "\n",
    "    # Calculating the Kalman Gain\n",
    "    H = np.identity(n)\n",
    "    R = covariance2d(error_obs_x, error_obs_v)\n",
    "    S = H.dot(P).dot(H.T) + R\n",
    "    K = P.dot(H).dot(inv(S))\n",
    "\n",
    "    # Reshape the new data into the measurement space.\n",
    "    Y = H.dot(data).reshape(n, -1)\n",
    "\n",
    "    # Update the State Matrix\n",
    "    # Combination of the predicted state, measured values, covariance matrix and Kalman Gain\n",
    "    X = X + K.dot(Y - H.dot(X))\n",
    "\n",
    "    # Update Process Covariance Matrix\n",
    "    P = (np.identity(len(K)) - K.dot(H)).dot(P)\n",
    "\n",
    "print(\"Kalman Filter State Matrix:\\n\", X)"
   ]
  },
  {
   "cell_type": "markdown",
   "id": "08c02967",
   "metadata": {},
   "source": [
    "### Example with car accelerating in x dimensional space."
   ]
  },
  {
   "cell_type": "code",
   "execution_count": 82,
   "id": "a3eab150",
   "metadata": {},
   "outputs": [],
   "source": [
    "observations_x = [-393.66, -375.93-351.04,-328.96,-299.35,-273.36,-245.89,-222.58,-198.03,-174.17,-146.32,-123.72,-103.47,-78.23,-52.63,-23.34,25.96,49.72,76.94,95.38,119.83,144.01,161.84,180.56,201.42,222.62,239.4,252.51,266.26,271.75,277.4,294.12,301.23,291.8,299.89]\n",
    "\n",
    "\n",
    "\n",
    "def prediction3d(X,t, a):\n",
    "    A = np.array([[1, t, 0.5*t**2],\n",
    "                  [0, 1, t], \n",
    "                  [0, 0, 1]])\n",
    "\n",
    "    B = np.array([[0.5 * t ** 2],\n",
    "                  [t]])\n",
    "    X_prime = A.dot(X) # + B.dot(a)\n",
    "    return X_prime\n",
    "\n",
    "def covariance3d(P,t,a):\n",
    "    # calculates FXF^T + Q\n",
    "    A = np.array([[1, t, 0.5*t**2],\n",
    "                  [0, 1, t], \n",
    "                  \n",
    "                  [0, 0, 1]])\n",
    "    \n",
    "    Q = np.array([[t**4/4, t**3/3, t**2/2],\n",
    "                  [t**3/2, t**2, t], \n",
    "                  [t**2, t, 1]])\n",
    "    return A.dot(P).dot(A.T) + Q*a**2\n",
    "\n",
    "def kalman_gain_calc(P,h,r):\n",
    "    H = np.array([h])\n",
    "    R = np.array([r])\n",
    "    return P.dot(H.T).dot(inv(H.dot(P).dot(H.T) + R))\n",
    "\n",
    "\n",
    "def update_state(current_state, kalman_gain, h, obs): \n",
    "    H = np.array([h])\n",
    "    return current_state + kalman_gain.dot(obs - H.dot(current_state))\n",
    "\n",
    "\n",
    "def update_covariance(P, kalman_gain, h, r):\n",
    "    H = np.array([h])\n",
    "    R = np.array([r])\n",
    "    return (np.diag(np.ones(len(X))) - kalman_gain.dot(H)).dot(P).dot((np.diag(np.ones(len(X))) + kalman_gain.dot(H)).T) + kalman_gain.dot(R).dot(kalman_gain.T)\n",
    "    "
   ]
  },
  {
   "cell_type": "code",
   "execution_count": 85,
   "id": "58eda581",
   "metadata": {
    "scrolled": true
   },
   "outputs": [
    {
     "name": "stdout",
     "output_type": "stream",
     "text": [
      "next state \n",
      " [[0.]\n",
      " [0.]\n",
      " [0.]]\n",
      "covariance \n",
      " [[1125.01        750.01333333  250.02      ]\n",
      " [ 750.02       1000.04        500.04      ]\n",
      " [ 250.04        500.04        500.04      ]]\n",
      "kalman gain \n",
      " [[0.99734045]\n",
      " [0.66490545]\n",
      " [0.2216647 ]]\n",
      "[[-392.6130412 ]\n",
      " [-261.74668061]\n",
      " [ -87.26052641]]\n",
      "[[  8.96014918   5.97352125   1.99139195]\n",
      " [  5.97353898 504.00464044 334.68465506]\n",
      " [  1.99144514 334.67283472 444.91420276]]\n"
     ]
    }
   ],
   "source": [
    "X = np.array([[0],\n",
    "              [0],\n",
    "              [0]])\n",
    "\n",
    "P = np.diag([500,500,500])\n",
    "\n",
    "for obs in observations_x:\n",
    "    # predict next state and covariance \n",
    "    X_tplus1 = prediction3d(X,1,1)\n",
    "    P_tplus1 = covariance3d(P,1,0.2)\n",
    "    print(f'next state \\n {X_tplus1}')\n",
    "    print(f'covariance \\n {P_tplus1}')\n",
    "\n",
    "    # calculate kalman gain\n",
    "    kalman_gain_ = kalman_gain_calc(P_tplus1, [1,0,0], [3])\n",
    "    print(f'kalman gain \\n {kalman_gain_}')\n",
    "\n",
    "    # record observation\n",
    "    X = update_state(X_tplus1, kalman_gain_, [1,0,0], obs)\n",
    "    P = update_covariance(P_tplus1, kalman_gain_, [1,0,0], [3])\n",
    "    break\n",
    "print(X)\n",
    "print(P)"
   ]
  },
  {
   "cell_type": "code",
   "execution_count": 56,
   "id": "69841e65",
   "metadata": {},
   "outputs": [
    {
     "data": {
      "text/plain": [
       "array([[  2.99202135,   1.99469863,   0.66494091],\n",
       "       [  1.99471636, 501.35204487, 333.80033865],\n",
       "       [  0.6649941 , 333.78851831, 444.61939132]])"
      ]
     },
     "execution_count": 56,
     "metadata": {},
     "output_type": "execute_result"
    }
   ],
   "source": [
    "update_covariance(P, kalman_gain_, [1,0,0])"
   ]
  },
  {
   "cell_type": "code",
   "execution_count": 66,
   "id": "7f63f1e0",
   "metadata": {},
   "outputs": [
    {
     "data": {
      "text/plain": [
       "array([[  2.99202135,   1.99469863,   0.66494091],\n",
       "       [  1.99471636, 501.35204487, 333.80033865],\n",
       "       [  0.6649941 , 333.78851831, 444.61939132]])"
      ]
     },
     "execution_count": 66,
     "metadata": {},
     "output_type": "execute_result"
    }
   ],
   "source": [
    "update_covariance(P, kalman_gain_, [1,0,0], [3])"
   ]
  }
 ],
 "metadata": {
  "kernelspec": {
   "display_name": "Python 3 (ipykernel)",
   "language": "python",
   "name": "python3"
  },
  "language_info": {
   "codemirror_mode": {
    "name": "ipython",
    "version": 3
   },
   "file_extension": ".py",
   "mimetype": "text/x-python",
   "name": "python",
   "nbconvert_exporter": "python",
   "pygments_lexer": "ipython3",
   "version": "3.9.7"
  }
 },
 "nbformat": 4,
 "nbformat_minor": 5
}
