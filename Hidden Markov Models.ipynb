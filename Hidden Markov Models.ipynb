{
 "cells": [
  {
   "cell_type": "code",
   "execution_count": 3,
   "metadata": {},
   "outputs": [
    {
     "data": {
      "text/plain": [
       "'/Users/jacklee-kopij/PycharmProjects/Signal_processing_jupyter/Signal_processing'"
      ]
     },
     "execution_count": 3,
     "metadata": {},
     "output_type": "execute_result"
    }
   ],
   "source": [
    "import pandas as pd\n",
    "import numpy as np\n",
    "import os \n",
    "os.getcwd()\n"
   ]
  },
  {
   "cell_type": "markdown",
   "metadata": {},
   "source": [
    "### Hidden Markov Model: parameters\n",
    "\n",
    "A Hidden Markov Model is comprised of three components: \n",
    "<br>\n",
    "    &emsp; Initial distribution: \n",
    "        $ \\pi_i $\n",
    "<br>\n",
    "    &emsp; A (hidden) state transition matrix: \n",
    "        $ P(Z_t = j |Z_{t-1} = i) $ \n",
    "<br>\n",
    "    &emsp; An emission matrix, distribution observed state given hidden state\n",
    "        $ P(X_t = k |Z_t = j) $ \n",
    " \n",
    "### Major inference methods\n",
    "HMM inference has numerous applications and derivations; at the heart of HMM inferential tasks inferring the hidden state sequence, given estimates both observations of data and estimates for the above parameters.\n",
    "\n",
    "#### Online vs offline\n",
    "An important distinction for HMM inference methods is the difference between an _online_ vs _offline_ model. _Online_ methods can be used while simultaneously collecting data, useful for predicting a current hidden state (_filtering_, covered below). _Offline_ inference requires the sequence be _complete_, i.e. all the data is collected up to time T, the end of the sequence. A the cost of losing real-time prediction, _offline_ algorithms provide the added benefit of applying hindsight to predictions earlier in the chain decreasing the overall uncertainty.\n",
    "\n",
    "__Filtering__; a method with the aim to derive the current _belief state_ of the _hidden state_ given the current and past _observed data_. Explicitly, the distribution for filtering is written as <br> $$ P(Z_t |X_{1:t})$$ \n",
    "\n",
    "\n",
    "__Smoothing__; a method to compute the belief of hidden states, _retrospectively_. _Smoothing_ calculates the distribuiton \n",
    "\n",
    "<br> $$ P(Z_t | X_{1:T}) $$\n",
    "\n",
    "where T is the final time step of the sequence. By using the entire sequence of data to _retospectively_ update beliefs of hidden states; overall uncertainty is reduced i.e. given the current hidden states affect the future observations, observing future observations provides evidence for current hidden states. "
   ]
  },
  {
   "cell_type": "code",
   "execution_count": 23,
   "metadata": {},
   "outputs": [],
   "source": [
    "# Read in emission and transition probability matrices\n",
    "HMM_PARAMS = pd.read_json(\"hmm_forward_alg_params.json\")\n",
    "HMM_EMISSION = HMM_PARAMS['emissions']\n",
    "HMM_INITIAL = HMM_PARAMS['initial']\n",
    "HMM_TRANSITION = HMM_PARAMS['transition']"
   ]
  },
  {
   "cell_type": "code",
   "execution_count": 25,
   "metadata": {},
   "outputs": [
    {
     "data": {
      "text/plain": [
       "Index(['fair', 'loaded'], dtype='object')"
      ]
     },
     "execution_count": 25,
     "metadata": {},
     "output_type": "execute_result"
    }
   ],
   "source": []
  },
  {
   "cell_type": "markdown",
   "metadata": {},
   "source": [
    "#### The FORWARD ALGORITHM\n",
    "The forward algorithm is useful for deriving the current _belief state, $Z_t$,_ given observations up to time _t_. \n",
    "\n",
    "Define the game of loaded casino: \n",
    "    '664153216162115234653214356634261655234232315142464156663246'"
   ]
  },
  {
   "cell_type": "code",
   "execution_count": 30,
   "metadata": {
    "collapsed": true
   },
   "outputs": [],
   "source": [
    "ROLL_SEQUENCE = '664153216162115234653214356634261655234232315142464156663246'\n",
    "observed_sequence = ROLL_SEQUENCE\n",
    "initial_observation = observed_sequence[0]\n",
    "\n",
    "initial_dist = HMM_INITIAL"
   ]
  },
  {
   "cell_type": "code",
   "execution_count": 32,
   "metadata": {},
   "outputs": [
    {
     "data": {
      "text/plain": [
       "[0.074999999999999997, 0.25]"
      ]
     },
     "execution_count": 32,
     "metadata": {},
     "output_type": "execute_result"
    }
   ],
   "source": [
    "initial_observation = observed_sequence[0]\n",
    "alpha_1 = [ HMM_EMISSION[i][initial_observation] * HMM_INITIAL[i] for i in initial_dist.keys()]\n",
    "alpha_1"
   ]
  },
  {
   "cell_type": "code",
   "execution_count": 40,
   "metadata": {},
   "outputs": [
    {
     "ename": "TypeError",
     "evalue": "unhashable type: 'dict'",
     "output_type": "error",
     "traceback": [
      "\u001b[0;31m---------------------------------------------------------------------------\u001b[0m",
      "\u001b[0;31mTypeError\u001b[0m                                 Traceback (most recent call last)",
      "\u001b[0;32m<ipython-input-40-2bf9b3c51a61>\u001b[0m in \u001b[0;36m<module>\u001b[0;34m()\u001b[0m\n\u001b[0;32m----> 1\u001b[0;31m \u001b[0mprint\u001b[0m\u001b[0;34m(\u001b[0m\u001b[0mforward_dist\u001b[0m\u001b[0;34m(\u001b[0m\u001b[0mROLL_SEQUENCE\u001b[0m\u001b[0;34m,\u001b[0m \u001b[0mHMM_INITIAL\u001b[0m\u001b[0;34m,\u001b[0m \u001b[0mHMM_TRANSITION\u001b[0m\u001b[0;34m,\u001b[0m \u001b[0mHMM_EMISSION\u001b[0m\u001b[0;34m)\u001b[0m\u001b[0;34m)\u001b[0m\u001b[0;34m\u001b[0m\u001b[0m\n\u001b[0m",
      "\u001b[0;32m<ipython-input-39-221e95122967>\u001b[0m in \u001b[0;36mforward_dist\u001b[0;34m(observed_sequence, initial_dist, transition, emission)\u001b[0m\n\u001b[1;32m      4\u001b[0m \u001b[0;34m\u001b[0m\u001b[0m\n\u001b[1;32m      5\u001b[0m     \u001b[0;31m# Calculate alpha for initial observation\u001b[0m\u001b[0;34m\u001b[0m\u001b[0;34m\u001b[0m\u001b[0m\n\u001b[0;32m----> 6\u001b[0;31m     \u001b[0malpha_1\u001b[0m \u001b[0;34m=\u001b[0m \u001b[0;34m{\u001b[0m\u001b[0;34m{\u001b[0m\u001b[0mi\u001b[0m\u001b[0;34m:\u001b[0m\u001b[0mHMM_EMISSION\u001b[0m\u001b[0;34m[\u001b[0m\u001b[0mi\u001b[0m\u001b[0;34m]\u001b[0m\u001b[0;34m[\u001b[0m\u001b[0minitial_observation\u001b[0m\u001b[0;34m]\u001b[0m \u001b[0;34m*\u001b[0m \u001b[0mHMM_INITIAL\u001b[0m\u001b[0;34m[\u001b[0m\u001b[0mi\u001b[0m\u001b[0;34m]\u001b[0m\u001b[0;34m}\u001b[0m \u001b[0;32mfor\u001b[0m \u001b[0mi\u001b[0m \u001b[0;32min\u001b[0m \u001b[0mstates\u001b[0m\u001b[0;34m}\u001b[0m\u001b[0;34m\u001b[0m\u001b[0m\n\u001b[0m\u001b[1;32m      7\u001b[0m     \u001b[0malpha_1_normalised\u001b[0m \u001b[0;34m=\u001b[0m \u001b[0malpha_1\u001b[0m \u001b[0;34m/\u001b[0m \u001b[0msum\u001b[0m\u001b[0;34m(\u001b[0m\u001b[0malpha_1\u001b[0m\u001b[0;34m)\u001b[0m\u001b[0;34m\u001b[0m\u001b[0m\n\u001b[1;32m      8\u001b[0m \u001b[0;34m\u001b[0m\u001b[0m\n",
      "\u001b[0;32m<ipython-input-39-221e95122967>\u001b[0m in \u001b[0;36m<setcomp>\u001b[0;34m(.0)\u001b[0m\n\u001b[1;32m      4\u001b[0m \u001b[0;34m\u001b[0m\u001b[0m\n\u001b[1;32m      5\u001b[0m     \u001b[0;31m# Calculate alpha for initial observation\u001b[0m\u001b[0;34m\u001b[0m\u001b[0;34m\u001b[0m\u001b[0m\n\u001b[0;32m----> 6\u001b[0;31m     \u001b[0malpha_1\u001b[0m \u001b[0;34m=\u001b[0m \u001b[0;34m{\u001b[0m\u001b[0;34m{\u001b[0m\u001b[0mi\u001b[0m\u001b[0;34m:\u001b[0m\u001b[0mHMM_EMISSION\u001b[0m\u001b[0;34m[\u001b[0m\u001b[0mi\u001b[0m\u001b[0;34m]\u001b[0m\u001b[0;34m[\u001b[0m\u001b[0minitial_observation\u001b[0m\u001b[0;34m]\u001b[0m \u001b[0;34m*\u001b[0m \u001b[0mHMM_INITIAL\u001b[0m\u001b[0;34m[\u001b[0m\u001b[0mi\u001b[0m\u001b[0;34m]\u001b[0m\u001b[0;34m}\u001b[0m \u001b[0;32mfor\u001b[0m \u001b[0mi\u001b[0m \u001b[0;32min\u001b[0m \u001b[0mstates\u001b[0m\u001b[0;34m}\u001b[0m\u001b[0;34m\u001b[0m\u001b[0m\n\u001b[0m\u001b[1;32m      7\u001b[0m     \u001b[0malpha_1_normalised\u001b[0m \u001b[0;34m=\u001b[0m \u001b[0malpha_1\u001b[0m \u001b[0;34m/\u001b[0m \u001b[0msum\u001b[0m\u001b[0;34m(\u001b[0m\u001b[0malpha_1\u001b[0m\u001b[0;34m)\u001b[0m\u001b[0;34m\u001b[0m\u001b[0m\n\u001b[1;32m      8\u001b[0m \u001b[0;34m\u001b[0m\u001b[0m\n",
      "\u001b[0;31mTypeError\u001b[0m: unhashable type: 'dict'"
     ]
    }
   ],
   "source": [
    "print(forward_dist(ROLL_SEQUENCE, HMM_INITIAL, HMM_TRANSITION, HMM_EMISSION))"
   ]
  },
  {
   "cell_type": "code",
   "execution_count": 41,
   "metadata": {},
   "outputs": [
    {
     "ename": "SyntaxError",
     "evalue": "invalid syntax (<ipython-input-41-a85d5826e713>, line 9)",
     "output_type": "error",
     "traceback": [
      "\u001b[0;36m  File \u001b[0;32m\"<ipython-input-41-a85d5826e713>\"\u001b[0;36m, line \u001b[0;32m9\u001b[0m\n\u001b[0;31m    alpha_1_dict[i] = HMM_EMISSION[i][initial_observation] * HMM_INITIAL[i] for i in states\u001b[0m\n\u001b[0m                                                                              ^\u001b[0m\n\u001b[0;31mSyntaxError\u001b[0m\u001b[0;31m:\u001b[0m invalid syntax\n"
     ]
    }
   ],
   "source": [
    "def forward_dist(observed_sequence, initial_dist, transition, emission): \n",
    "    initial_observation = observed_sequence[0]\n",
    "    hidden_states = initial_dist.keys()\n",
    "\n",
    "    # Calculate alpha for initial observation\n",
    "    alpha_1 = [HMM_EMISSION[i][initial_observation] * HMM_INITIAL[i] for i in hidden_states ]\n",
    "    alpha_1_normalised = np.arry( alpha_1 / sum(alpha_1) )\n",
    "    \n",
    "    \n",
    "    \n",
    "    # Iterate through remaining sequence\n",
    "    for observation in observed_sequence[1:]: \n",
    "        alpha_1 = [ ]\n",
    "        for j in hidden_states: \n",
    "            for index,i in enumerate(hidden_states):\n",
    "                temp = HMM_EMISSION[j][observation] * transition[i][j] * alpha_1_normalised[index]\n",
    "        \n",
    "        [HMM_EMISSION[state][initial_observation] * alpha_1_normalised for index,state in enumerate(states)]\n",
    "        \n",
    "    return alpha_1_normalised"
   ]
  }
 ],
 "metadata": {
  "kernelspec": {
   "display_name": "Python 3",
   "language": "python",
   "name": "python3"
  },
  "language_info": {
   "codemirror_mode": {
    "name": "ipython",
    "version": 3
   },
   "file_extension": ".py",
   "mimetype": "text/x-python",
   "name": "python",
   "nbconvert_exporter": "python",
   "pygments_lexer": "ipython3",
   "version": "3.6.3"
  }
 },
 "nbformat": 4,
 "nbformat_minor": 2
}
