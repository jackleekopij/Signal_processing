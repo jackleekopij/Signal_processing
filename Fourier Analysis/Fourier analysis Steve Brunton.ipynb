{
 "cells": [
  {
   "cell_type": "markdown",
   "id": "459ce6e8-b42e-4d40-b13e-35a535ccc621",
   "metadata": {},
   "source": [
    "# Fourier Transform (& wavelets)\n",
    "\n",
    "Most scientific break throughs have occured by approaching problem from a different coordinate system. Fourier transform is a coordinate transform into harmonic (sin & cos) system. Fourier transform says any function can be approximated by an infinite number of sin and cosines of increasing frequency.\n",
    "\n",
    "Fast Fourier Transform - how you efficiently compute a Fourier series on a computer. Modern digital communication is built on the Fast Fourier Transform.\n",
    "\n",
    "In series, going to look at Fourier transforms for: \n",
    "- Function approximation\n",
    "- Image compression\n",
    "- Audio compression\n",
    "- Denoising"
   ]
  },
  {
   "cell_type": "markdown",
   "id": "c1739b0e-ed5b-4612-aac1-941071bd7273",
   "metadata": {},
   "source": [
    "## Fourier series (video 2) \n",
    "https://www.youtube.com/watch?v=MB6XGQWLV04&list=PLMrJAkhIeNNT_Xh3Oy0Y4LTj0Oxo8GqsC&index=2 <br>\n",
    "Approximating a function, f(x) as $ f(x) = \\frac{A_0}{2}\\sum^\\infty_{k=1} (A_k cos(kx) + B_k sin(kx))$. Coefficients $A_k$ and $B_k$ need to be computed. Further, inputs into sin and cos are *2 $\\pi$ periodic*.\n",
    "\n",
    "The coefficients $A_k$ and $B_k$ are computed by the Hilbter space inner product of function f(x) with specific cosine or sin frequency. \n",
    "$$\n",
    "\\begin{align}\n",
    "A_k &= \\frac{1}{\\pi} \\int^\\pi_{-\\pi} f(x) cos(kx)dx \\\\\n",
    "B_k &= \\frac{1}{\\pi} \\int^\\pi_{-\\pi} f(x) sin(kx)dx \\\\\n",
    "\\end{align}\n",
    "$$\n",
    "Where the above can be rewritten as a projection of inner products: \n",
    "$$\n",
    "\\begin{align}\n",
    "A_k &= \\frac{1}{\\pi} \\int^\\pi_{-\\pi} f(x) cos(kx)dx = \\frac{1}{||cos(kx)||^2} <f(x), cos(kx)>\\\\\n",
    "B_k &= \\frac{1}{\\pi} \\int^\\pi_{-\\pi} f(x) sin(kx)dx = \\frac{1}{||sin(kx)||^2} <f(x), sin(kx)> \\\\\n",
    "\\end{align}\n",
    "$$\n",
    "\n",
    "Fourier series is just a representation of writing a function in orthogonal basis of sin's and cosine's.\n",
    "\n",
    "<font color='red'>Show relation from function representation of Fourier series to projection onto basis to least squares coefficients.</font> "
   ]
  }
 ],
 "metadata": {
  "kernelspec": {
   "display_name": "venv_h2",
   "language": "python",
   "name": "venv_h2"
  },
  "language_info": {
   "codemirror_mode": {
    "name": "ipython",
    "version": 3
   },
   "file_extension": ".py",
   "mimetype": "text/x-python",
   "name": "python",
   "nbconvert_exporter": "python",
   "pygments_lexer": "ipython3",
   "version": "3.8.10"
  }
 },
 "nbformat": 4,
 "nbformat_minor": 5
}
