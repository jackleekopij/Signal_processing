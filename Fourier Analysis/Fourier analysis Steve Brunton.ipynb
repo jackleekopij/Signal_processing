{
 "cells": [
  {
   "cell_type": "markdown",
   "id": "459ce6e8-b42e-4d40-b13e-35a535ccc621",
   "metadata": {},
   "source": [
    "# Fourier Transform (& wavelets)\n",
    "\n",
    "Most scientific break throughs have occured by approaching problem from a different coordinate system. Fourier transform is a coordinate transform into harmonic (sin & cos) system. Fourier transform says any function can be approximated by an infinite number of sin and cosines of increasing frequency.\n",
    "\n",
    "Fast Fourier Transform - how you efficiently compute a Fourier series on a computer. Modern digital communication is built on the Fast Fourier Transform.\n",
    "\n",
    "In series, going to look at Fourier transforms for: \n",
    "- Function approximation\n",
    "- Image compression\n",
    "- Audio compression\n",
    "- Denoising\n",
    "\n",
    "For reference, knowing that a projection is the following integral $<f(x), g(x)> = \\int f(x) \\bar{g}(x) dx$ the Fourier series is defined as a projection onto an basis of infinite number sin and consines of $2 \\pi $ frequency. \n"
   ]
  },
  {
   "cell_type": "markdown",
   "id": "c1739b0e-ed5b-4612-aac1-941071bd7273",
   "metadata": {},
   "source": [
    "## Fourier series (video 2) \n",
    "https://www.youtube.com/watch?v=MB6XGQWLV04&list=PLMrJAkhIeNNT_Xh3Oy0Y4LTj0Oxo8GqsC&index=2 <br>\n",
    "Approximating a function, f(x) as $ f(x) = \\frac{A_0}{2}\\sum^\\infty_{k=1} (A_k cos(kx) + B_k sin(kx))$. Coefficients $A_k$ and $B_k$ need to be computed. Further, inputs into sin and cos are *2 $\\pi$ periodic*.\n",
    "\n",
    "The coefficients $A_k$ and $B_k$ are computed by the Hilbter space inner product of function f(x) with specific cosine or sin frequency. \n",
    "$$\n",
    "\\begin{align}\n",
    "A_k &= \\frac{1}{\\pi} \\int^\\pi_{-\\pi} f(x) cos(kx)dx \\\\\n",
    "B_k &= \\frac{1}{\\pi} \\int^\\pi_{-\\pi} f(x) sin(kx)dx \\\\\n",
    "\\end{align}\n",
    "$$\n",
    "Where the above can be rewritten as a projection of inner products: \n",
    "$$\n",
    "\\begin{align}\n",
    "A_k &= \\frac{1}{\\pi} \\int^\\pi_{-\\pi} f(x) cos(kx)dx = \\frac{1}{||cos(kx)||^2} <f(x), cos(kx)>\\\\\n",
    "B_k &= \\frac{1}{\\pi} \\int^\\pi_{-\\pi} f(x) sin(kx)dx = \\frac{1}{||sin(kx)||^2} <f(x), sin(kx)> \\\\\n",
    "\\end{align}\n",
    "$$\n",
    "\n",
    "Fourier series is just a representation of writing a function in orthogonal basis of sin's and cosine's.\n",
    "\n",
    "<font color='red'>Show relation from function representation of Fourier series to projection onto basis to least squares coefficients.</font> "
   ]
  },
  {
   "cell_type": "markdown",
   "id": "e75fd7ef",
   "metadata": {},
   "source": [
    "## Fouerier series (video 3)\n",
    "https://www.youtube.com/watch?v=Ud9Xtxsi2HI&list=PLMrJAkhIeNNT_Xh3Oy0Y4LTj0Oxo8GqsC&index=3 <br>\n",
    "An extension is made to the previous form of the projection where coefficients are calculated on $2\\pi$ periodicity. Thus: \n",
    "$$\n",
    "\\begin{align} \n",
    "f(x) &= \\frac{A_0}{2} + \\sum^{infty}_{k=1} (A_k cos(\\frac{2\\pi k x}{l} + B_k sin(\\frac{2\\pi k x}{l}) \\\\\n",
    "A_k &= \\frac{2}{L}\\int_{0}^L f(x)cos(\\frac{2\\pi k x}{l}) dx \\\\\n",
    "B_k &= \\frac{2}{L}\\int_{0}^L f(x)sin(\\frac{2\\pi k x}{l}) dx \\\\\n",
    "\\end{align}\n",
    "$$"
   ]
  },
  {
   "cell_type": "markdown",
   "id": "2a37f154",
   "metadata": {},
   "source": [
    "## Inner products in Hilbert Space (video 4)\n",
    "https://www.youtube.com/watch?v=g-eNeXlZKAQ&list=PLMrJAkhIeNNT_Xh3Oy0Y4LTj0Oxo8GqsC&index=4 <br>\n",
    "Making equivalance from inner products of vectors and functions. Start with two functions, *f(x)* and *g(x)*, then the following projection holds $<f(x), g(x)> = \\int_a^b f(x) \\bar{g}(x)dx$. Similar to the inner product/cosine similarity metric then larger this projection the more similar the functions are. To show how this is similarity metric start by taking a vector of discrete, equidistant points such that each point on x is defined as $x_1, x_2, ... x_n$ where $\\Delta x= \\frac{x_n - x_1}{n-1}$. \n",
    "\n",
    "The discrete dot product between f(x) and g(x) would then become:\n",
    "$$\n",
    "f = \\begin{bmatrix} f(x_1) \\\\ f(x_2) \\\\ \\dots \\\\ f(x_n) \\end{bmatrix}\n",
    "g = \\begin{bmatrix} g(x_1) \\\\ g(x_2) \\\\ \\dots \\\\ g(x_n) \\end{bmatrix}\n",
    "$$\n",
    "\n",
    "To inner product/projection then becomes $<f(x), g(x)> = g^tf = \\sum^n_{k=1} f(x_k)\\bar{g}(x)$. However, note this isn't normalised for the number of data points in discretisation process, the following manipulation is made $<f(x), g(x)> \\Delta x = \\sum^n_{k=1} f(x_k)\\bar{g}(x) \\Delta x$ WHICH IS THE APPROXIMATION TO THE REIMANN INTEGRAL AS $\\lim{\\Delta x\\rightarrow \\infty}$."
   ]
  }
 ],
 "metadata": {
  "kernelspec": {
   "display_name": "Python 3 (ipykernel)",
   "language": "python",
   "name": "python3"
  },
  "language_info": {
   "codemirror_mode": {
    "name": "ipython",
    "version": 3
   },
   "file_extension": ".py",
   "mimetype": "text/x-python",
   "name": "python",
   "nbconvert_exporter": "python",
   "pygments_lexer": "ipython3",
   "version": "3.9.7"
  }
 },
 "nbformat": 4,
 "nbformat_minor": 5
}
